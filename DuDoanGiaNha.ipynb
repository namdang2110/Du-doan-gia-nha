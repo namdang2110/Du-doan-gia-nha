{
 "cells": [
  {
   "cell_type": "code",
   "execution_count": 1,
   "metadata": {},
   "outputs": [],
   "source": [
    "import pandas as pd\n",
    "import numpy as np\n",
    "\n",
    "# k55 = pd.read_csv(\"D:\\\\Khoa hoc du lieu\\\\data_k55kmt.csv\", index_col='Date', parse_dates=True)\n",
    "house_prices = pd.read_csv(\"D:\\\\VS Code Workspace\\\\Du doan gia nha\\\\house-prices.csv\")"
   ]
  },
  {
   "cell_type": "code",
   "execution_count": 2,
   "metadata": {},
   "outputs": [
    {
     "data": {
      "text/html": [
       "<div>\n",
       "<style scoped>\n",
       "    .dataframe tbody tr th:only-of-type {\n",
       "        vertical-align: middle;\n",
       "    }\n",
       "\n",
       "    .dataframe tbody tr th {\n",
       "        vertical-align: top;\n",
       "    }\n",
       "\n",
       "    .dataframe thead th {\n",
       "        text-align: right;\n",
       "    }\n",
       "</style>\n",
       "<table border=\"1\" class=\"dataframe\">\n",
       "  <thead>\n",
       "    <tr style=\"text-align: right;\">\n",
       "      <th></th>\n",
       "      <th>Home</th>\n",
       "      <th>Price</th>\n",
       "      <th>SqFt</th>\n",
       "      <th>Bedrooms</th>\n",
       "      <th>Bathrooms</th>\n",
       "      <th>Offers</th>\n",
       "      <th>Brick</th>\n",
       "      <th>Neighborhood</th>\n",
       "    </tr>\n",
       "  </thead>\n",
       "  <tbody>\n",
       "    <tr>\n",
       "      <th>0</th>\n",
       "      <td>1</td>\n",
       "      <td>114300</td>\n",
       "      <td>1790</td>\n",
       "      <td>2</td>\n",
       "      <td>2</td>\n",
       "      <td>2</td>\n",
       "      <td>No</td>\n",
       "      <td>East</td>\n",
       "    </tr>\n",
       "    <tr>\n",
       "      <th>1</th>\n",
       "      <td>2</td>\n",
       "      <td>114200</td>\n",
       "      <td>2030</td>\n",
       "      <td>4</td>\n",
       "      <td>2</td>\n",
       "      <td>3</td>\n",
       "      <td>No</td>\n",
       "      <td>East</td>\n",
       "    </tr>\n",
       "    <tr>\n",
       "      <th>2</th>\n",
       "      <td>3</td>\n",
       "      <td>114800</td>\n",
       "      <td>1740</td>\n",
       "      <td>3</td>\n",
       "      <td>2</td>\n",
       "      <td>1</td>\n",
       "      <td>No</td>\n",
       "      <td>East</td>\n",
       "    </tr>\n",
       "    <tr>\n",
       "      <th>3</th>\n",
       "      <td>4</td>\n",
       "      <td>94700</td>\n",
       "      <td>1980</td>\n",
       "      <td>3</td>\n",
       "      <td>2</td>\n",
       "      <td>3</td>\n",
       "      <td>No</td>\n",
       "      <td>East</td>\n",
       "    </tr>\n",
       "    <tr>\n",
       "      <th>4</th>\n",
       "      <td>5</td>\n",
       "      <td>119800</td>\n",
       "      <td>2130</td>\n",
       "      <td>3</td>\n",
       "      <td>3</td>\n",
       "      <td>3</td>\n",
       "      <td>No</td>\n",
       "      <td>East</td>\n",
       "    </tr>\n",
       "  </tbody>\n",
       "</table>\n",
       "</div>"
      ],
      "text/plain": [
       "   Home   Price  SqFt  Bedrooms  Bathrooms  Offers Brick Neighborhood\n",
       "0     1  114300  1790         2          2       2    No         East\n",
       "1     2  114200  2030         4          2       3    No         East\n",
       "2     3  114800  1740         3          2       1    No         East\n",
       "3     4   94700  1980         3          2       3    No         East\n",
       "4     5  119800  2130         3          3       3    No         East"
      ]
     },
     "execution_count": 2,
     "metadata": {},
     "output_type": "execute_result"
    }
   ],
   "source": [
    "house_prices.head()"
   ]
  },
  {
   "cell_type": "code",
   "execution_count": 3,
   "metadata": {},
   "outputs": [],
   "source": [
    "house_prices.loc[house_prices[\"Brick\"] == \"No\", \"Brick\"] = 0\n",
    "house_prices.loc[house_prices[\"Brick\"] == \"Yes\", \"Brick\"] = 1\n",
    "\n",
    "house_prices.loc[house_prices[\"Neighborhood\"] == \"East\", \"Neighborhood\"] = 1\n",
    "house_prices.loc[house_prices[\"Neighborhood\"] == \"West\", \"Neighborhood\"] = 2\n",
    "house_prices.loc[house_prices[\"Neighborhood\"] == \"South\", \"Neighborhood\"] = 3\n",
    "house_prices.loc[house_prices[\"Neighborhood\"] == \"North\", \"Neighborhood\"] = 4\n",
    "\n",
    "house_prices.to_csv(\"new_house_prices.csv\", index=False)"
   ]
  },
  {
   "cell_type": "code",
   "execution_count": 4,
   "metadata": {},
   "outputs": [
    {
     "data": {
      "text/html": [
       "<div>\n",
       "<style scoped>\n",
       "    .dataframe tbody tr th:only-of-type {\n",
       "        vertical-align: middle;\n",
       "    }\n",
       "\n",
       "    .dataframe tbody tr th {\n",
       "        vertical-align: top;\n",
       "    }\n",
       "\n",
       "    .dataframe thead th {\n",
       "        text-align: right;\n",
       "    }\n",
       "</style>\n",
       "<table border=\"1\" class=\"dataframe\">\n",
       "  <thead>\n",
       "    <tr style=\"text-align: right;\">\n",
       "      <th></th>\n",
       "      <th>Home</th>\n",
       "      <th>Price</th>\n",
       "      <th>SqFt</th>\n",
       "      <th>Bedrooms</th>\n",
       "      <th>Bathrooms</th>\n",
       "      <th>Offers</th>\n",
       "      <th>Brick</th>\n",
       "      <th>Neighborhood</th>\n",
       "    </tr>\n",
       "  </thead>\n",
       "  <tbody>\n",
       "    <tr>\n",
       "      <th>0</th>\n",
       "      <td>1</td>\n",
       "      <td>114300</td>\n",
       "      <td>1790</td>\n",
       "      <td>2</td>\n",
       "      <td>2</td>\n",
       "      <td>2</td>\n",
       "      <td>0</td>\n",
       "      <td>1</td>\n",
       "    </tr>\n",
       "    <tr>\n",
       "      <th>1</th>\n",
       "      <td>2</td>\n",
       "      <td>114200</td>\n",
       "      <td>2030</td>\n",
       "      <td>4</td>\n",
       "      <td>2</td>\n",
       "      <td>3</td>\n",
       "      <td>0</td>\n",
       "      <td>1</td>\n",
       "    </tr>\n",
       "    <tr>\n",
       "      <th>2</th>\n",
       "      <td>3</td>\n",
       "      <td>114800</td>\n",
       "      <td>1740</td>\n",
       "      <td>3</td>\n",
       "      <td>2</td>\n",
       "      <td>1</td>\n",
       "      <td>0</td>\n",
       "      <td>1</td>\n",
       "    </tr>\n",
       "    <tr>\n",
       "      <th>3</th>\n",
       "      <td>4</td>\n",
       "      <td>94700</td>\n",
       "      <td>1980</td>\n",
       "      <td>3</td>\n",
       "      <td>2</td>\n",
       "      <td>3</td>\n",
       "      <td>0</td>\n",
       "      <td>1</td>\n",
       "    </tr>\n",
       "    <tr>\n",
       "      <th>4</th>\n",
       "      <td>5</td>\n",
       "      <td>119800</td>\n",
       "      <td>2130</td>\n",
       "      <td>3</td>\n",
       "      <td>3</td>\n",
       "      <td>3</td>\n",
       "      <td>0</td>\n",
       "      <td>1</td>\n",
       "    </tr>\n",
       "  </tbody>\n",
       "</table>\n",
       "</div>"
      ],
      "text/plain": [
       "   Home   Price  SqFt  Bedrooms  Bathrooms  Offers  Brick  Neighborhood\n",
       "0     1  114300  1790         2          2       2      0             1\n",
       "1     2  114200  2030         4          2       3      0             1\n",
       "2     3  114800  1740         3          2       1      0             1\n",
       "3     4   94700  1980         3          2       3      0             1\n",
       "4     5  119800  2130         3          3       3      0             1"
      ]
     },
     "execution_count": 4,
     "metadata": {},
     "output_type": "execute_result"
    }
   ],
   "source": [
    "new_house_prices = pd.read_csv(\"D:\\\\VS Code Workspace\\\\Du doan gia nha\\\\new_house_prices.csv\")\n",
    "new_house_prices.head()"
   ]
  },
  {
   "cell_type": "code",
   "execution_count": 25,
   "metadata": {},
   "outputs": [
    {
     "name": "stdout",
     "output_type": "stream",
     "text": [
      "     SqFt  Bedrooms  Bathrooms  Offers  Brick  Neighborhood\n",
      "0    1790         2          2       2      0             1\n",
      "1    2030         4          2       3      0             1\n",
      "2    1740         3          2       1      0             1\n",
      "3    1980         3          2       3      0             1\n",
      "4    2130         3          3       3      0             1\n",
      "..    ...       ...        ...     ...    ...           ...\n",
      "123  1900         3          3       3      1             1\n",
      "124  2160         4          3       3      1             1\n",
      "125  2070         2          2       2      0             4\n",
      "126  2020         3          3       1      0             2\n",
      "127  2250         3          3       4      0             4\n",
      "\n",
      "[128 rows x 6 columns]\n",
      "0      114300\n",
      "1      114200\n",
      "2      114800\n",
      "3       94700\n",
      "4      119800\n",
      "        ...  \n",
      "123    119700\n",
      "124    147900\n",
      "125    113500\n",
      "126    149900\n",
      "127    124600\n",
      "Name: Price, Length: 128, dtype: int64\n"
     ]
    }
   ],
   "source": [
    "new_house_prices.dropna(axis=0, how='any', inplace=True)\n",
    "\n",
    "values = ['SqFt', 'Bedrooms', 'Bathrooms', 'Offers', 'Brick', 'Neighborhood']\n",
    "\n",
    "x = new_house_prices[values] #.values.reshape(-1, 1)\n",
    "y = new_house_prices['Price']\n",
    "\n",
    "print(x)\n",
    "print(y)"
   ]
  },
  {
   "cell_type": "code",
   "execution_count": 27,
   "metadata": {},
   "outputs": [
    {
     "name": "stdout",
     "output_type": "stream",
     "text": [
      "Độ chính xác của mô hình : 0.7355331071842939\n"
     ]
    }
   ],
   "source": [
    "from sklearn.linear_model import LinearRegression\n",
    "from sklearn.model_selection import train_test_split\n",
    "import pickle\n",
    "X_train, X_test, y_train, y_test = train_test_split(x, y, test_size=0.2, random_state=0)\n",
    "model= LinearRegression()\n",
    "model.fit(X_train, y_train)\n",
    "y_pred = model.predict(X_test)\n",
    "\n",
    "with open('linear_regression.pkl','wb') as f:\n",
    "    pickle.dump(model,f)\n",
    "score = model.score(X_test, y_test)\n",
    "print('Độ chính xác của mô hình :', score)"
   ]
  },
  {
   "cell_type": "code",
   "execution_count": 28,
   "metadata": {},
   "outputs": [
    {
     "name": "stdout",
     "output_type": "stream",
     "text": [
      "MSE:  171278794.66289613\n",
      "R2:  0.7355331071842939\n"
     ]
    }
   ],
   "source": [
    "from sklearn.metrics import mean_squared_error, r2_score\n",
    "y_pred = model.predict(X_test)\n",
    "\n",
    "# Tính MSE\n",
    "mse = mean_squared_error(y_test, y_pred)\n",
    "print(\"MSE: \", mse)\n",
    "\n",
    "# Tính R2\n",
    "r2 = r2_score(y_test, y_pred)\n",
    "print(\"R2: \", r2)"
   ]
  },
  {
   "cell_type": "code",
   "execution_count": 19,
   "metadata": {},
   "outputs": [
    {
     "name": "stdout",
     "output_type": "stream",
     "text": [
      "[('SqFt', 114300), ('Bedrooms', 114200), ('Bathrooms', 114800), ('Offers', 94700), ('Brick', 119800), ('Neighborhood', 114600)]\n"
     ]
    }
   ],
   "source": [
    "data= list(zip(x,y))\n",
    "print(data)"
   ]
  },
  {
   "cell_type": "code",
   "execution_count": 31,
   "metadata": {},
   "outputs": [],
   "source": [
    "def predict_price(SqFt, Bedrooms, Bathrooms, Offers, Brick, Neighborhood):\n",
    "    with open('linear_regression.pkl', 'rb') as f:\n",
    "        mmodel = pickle.load(f)\n",
    "    return model.predict([[SqFt, Bedrooms, Bathrooms, Offers, Brick, Neighborhood]])[0]"
   ]
  },
  {
   "cell_type": "code",
   "execution_count": 35,
   "metadata": {},
   "outputs": [
    {
     "name": "stdout",
     "output_type": "stream",
     "text": [
      "Giá nhà dự đoán là : 145047.16191712007 USD\n"
     ]
    },
    {
     "name": "stderr",
     "output_type": "stream",
     "text": [
      "d:\\Python\\lib\\site-packages\\sklearn\\base.py:450: UserWarning: X does not have valid feature names, but LinearRegression was fitted with feature names\n",
      "  warnings.warn(\n"
     ]
    }
   ],
   "source": [
    "SqFt = float(input('Nhap dien tich nha : '))\n",
    "Bedrooms = float(input('Nhap so phong ngu : '))\n",
    "Bathrooms = float(input('Nhap so phong tam : '))\n",
    "Offers = float(input('Offers : '))\n",
    "Brick = float(input('Brick (0-1): '))\n",
    "Neighborhood = float(input('Huong nha hang xom (1-4) : '))\n",
    "\n",
    "price = predict_price(SqFt, Bedrooms, Bathrooms, Offers, Brick, Neighborhood)\n",
    "print(f'Giá nhà dự đoán là : {price} USD')"
   ]
  }
 ],
 "metadata": {
  "kernelspec": {
   "display_name": "Python 3",
   "language": "python",
   "name": "python3"
  },
  "language_info": {
   "codemirror_mode": {
    "name": "ipython",
    "version": 3
   },
   "file_extension": ".py",
   "mimetype": "text/x-python",
   "name": "python",
   "nbconvert_exporter": "python",
   "pygments_lexer": "ipython3",
   "version": "3.8.10"
  },
  "orig_nbformat": 4
 },
 "nbformat": 4,
 "nbformat_minor": 2
}
